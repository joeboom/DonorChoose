{
 "cells": [
  {
   "cell_type": "markdown",
   "metadata": {},
   "source": [
    "# DonorChoose.org Kaggle Challenge\n",
    "\n",
    "Objective: Leverage data provided by DonorChoose.org to devise a recommendation intended to convert first-time donors into repeat donors.\n",
    "\n",
    "Summary: This notebook provides the data analysis which is the basis of my findings/recommendation. Results of this analysis are communicated through (1) the supporting visualization/dashboard, and (2) the supporting slides which are meant to be read in together with this notebook.\n",
    "\n",
    "## Table of Contents:\n",
    "\n",
    "Loading Data into DB\n",
    "    \n",
    "<a href = '#helper_functions'> - Helper Functions </a> <br>\n",
    "<a href = '#csv_loading'> - Loading CSVs into SQLite3 Database </a> <br>\n",
    "<a href = '#data_cleaning'> - Data Cleaning </a> <br>\n",
    "\n",
    "Exploratory Data Analysis\n",
    "\n",
    "<a href = '#eda'> - EDA </a> <br>\n",
    "<a href = '#preliminary_analysis'> - Preliminary Analysis </a> <br>\n",
    "<a href = '#donor_location'> - Donor Location </a> <br>\n",
    "<a href = '#donation_amount'> - Donation Amount </a> <br>\n",
    "<a href = '#teacher_donors'> - Proportion of Teachers </a> <br>\n",
    "<a href = '#project_types'> - Repeat Donor Project Types </a> <br>"
   ]
  },
  {
   "cell_type": "code",
   "execution_count": 22,
   "metadata": {},
   "outputs": [],
   "source": [
    "import sqlite3\n",
    "import csv\n",
    "import pandas as pd"
   ]
  },
  {
   "cell_type": "markdown",
   "metadata": {},
   "source": [
    "<a id = 'helper_functions'></a>\n",
    "# Making some helper functions\n",
    "The below assists in the preparation of the database which will house the DonorChoose information, and subsequent operations including the querying of the database."
   ]
  },
  {
   "cell_type": "code",
   "execution_count": 23,
   "metadata": {},
   "outputs": [],
   "source": [
    "#Helper function add_table() which takes a doc string to create a table and commit to db\n",
    "def add_table(docstring):\n",
    "    conn = sqlite3.connect('donations.db')\n",
    "    c = conn.cursor()\n",
    "    c.execute(docstring)\n",
    "    conn.commit()\n",
    "    conn.close()\n",
    "\n",
    "#Helper function import_csv() which takes the name of a csv file (same directory) and imports into specified table\n",
    "def import_csv(table_name, csv_name, sql_statement):\n",
    "    conn = sqlite3.connect('donations.db')\n",
    "    c = conn.cursor()\n",
    "\n",
    "    with open(csv_name, 'r') as file_:\n",
    "\n",
    "        reader = csv.reader(file_)\n",
    "\n",
    "        next(reader)\n",
    "\n",
    "        for line in reader:\n",
    "            c.execute(sql_statement, line)\n",
    "\n",
    "        file_.close()\n",
    "        conn.commit()\n",
    "        conn.close\n",
    "\n",
    "#Helper function return_query() to return output of sql_query\n",
    "def return_query(query):\n",
    "    conn = sqlite3.connect('donations.db')\n",
    "    c = conn.cursor()\n",
    "    c.execute(query)\n",
    "    return(c.fetchall())\n",
    "    conn.commit()\n",
    "    conn.close()\n",
    "    \n",
    "#Helper function drop_table to drop a table\n",
    "\n",
    "def drop_table(table):\n",
    "    conn = sqlite3.connect('donations.db')\n",
    "    c = conn.cursor()\n",
    "    \n",
    "    c.execute(\"DROP TABLE \"+table)\n",
    "    \n",
    "    conn.commit()\n",
    "    conn.close()"
   ]
  },
  {
   "cell_type": "markdown",
   "metadata": {},
   "source": [
    "<a id = 'csv_loading'></a>\n",
    "# Loading csv files into Sqlite3 db"
   ]
  },
  {
   "cell_type": "code",
   "execution_count": 256,
   "metadata": {},
   "outputs": [],
   "source": [
    "### Loading the 'donations' table"
   ]
  },
  {
   "cell_type": "code",
   "execution_count": 24,
   "metadata": {},
   "outputs": [
    {
     "data": {
      "text/html": [
       "<div>\n",
       "<style scoped>\n",
       "    .dataframe tbody tr th:only-of-type {\n",
       "        vertical-align: middle;\n",
       "    }\n",
       "\n",
       "    .dataframe tbody tr th {\n",
       "        vertical-align: top;\n",
       "    }\n",
       "\n",
       "    .dataframe thead th {\n",
       "        text-align: right;\n",
       "    }\n",
       "</style>\n",
       "<table border=\"1\" class=\"dataframe\">\n",
       "  <thead>\n",
       "    <tr style=\"text-align: right;\">\n",
       "      <th></th>\n",
       "      <th>0</th>\n",
       "      <th>1</th>\n",
       "      <th>2</th>\n",
       "      <th>3</th>\n",
       "      <th>4</th>\n",
       "      <th>5</th>\n",
       "      <th>6</th>\n",
       "    </tr>\n",
       "  </thead>\n",
       "  <tbody>\n",
       "    <tr>\n",
       "      <th>0</th>\n",
       "      <td>000009891526c0ade7180f8423792063</td>\n",
       "      <td>688729120858666221208529ee3fc18e</td>\n",
       "      <td>1f4b5b6e68445c6c4a0509b3aca93f38</td>\n",
       "      <td>No</td>\n",
       "      <td>178.37</td>\n",
       "      <td>11</td>\n",
       "      <td>2016-08-23 13:15:57</td>\n",
       "    </tr>\n",
       "    <tr>\n",
       "      <th>1</th>\n",
       "      <td>000009891526c0ade7180f8423792063</td>\n",
       "      <td>dcf1071da3aa3561f91ac689d1f73dee</td>\n",
       "      <td>4aaab6d244bf3599682239ed5591af8a</td>\n",
       "      <td>Yes</td>\n",
       "      <td>25.00</td>\n",
       "      <td>2</td>\n",
       "      <td>2016-06-06 20:05:23</td>\n",
       "    </tr>\n",
       "    <tr>\n",
       "      <th>2</th>\n",
       "      <td>000009891526c0ade7180f8423792063</td>\n",
       "      <td>18a234b9d1e538c431761d521ea7799d</td>\n",
       "      <td>0b0765dc9c759adc48a07688ba25e94e</td>\n",
       "      <td>Yes</td>\n",
       "      <td>20.00</td>\n",
       "      <td>3</td>\n",
       "      <td>2016-06-06 14:08:46</td>\n",
       "    </tr>\n",
       "  </tbody>\n",
       "</table>\n",
       "</div>"
      ],
      "text/plain": [
       "                                  0                                 1  \\\n",
       "0  000009891526c0ade7180f8423792063  688729120858666221208529ee3fc18e   \n",
       "1  000009891526c0ade7180f8423792063  dcf1071da3aa3561f91ac689d1f73dee   \n",
       "2  000009891526c0ade7180f8423792063  18a234b9d1e538c431761d521ea7799d   \n",
       "\n",
       "                                  2    3       4   5                    6  \n",
       "0  1f4b5b6e68445c6c4a0509b3aca93f38   No  178.37  11  2016-08-23 13:15:57  \n",
       "1  4aaab6d244bf3599682239ed5591af8a  Yes   25.00   2  2016-06-06 20:05:23  \n",
       "2  0b0765dc9c759adc48a07688ba25e94e  Yes   20.00   3  2016-06-06 14:08:46  "
      ]
     },
     "execution_count": 24,
     "metadata": {},
     "output_type": "execute_result"
    }
   ],
   "source": [
    "add_table(\"\"\"CREATE TABLE donations (\n",
    "            project_id text,\n",
    "            donation_id text,\n",
    "            donor_id text,\n",
    "            optional_donation text,\n",
    "            donation_amount real,\n",
    "            cart_sequence integer,\n",
    "            receipt_date text\n",
    ")\"\"\")\n",
    "\n",
    "sql_string = \"INSERT INTO donations VALUES(?,?,?,?,?,?,?)\"\n",
    "import_csv('donations', 'Donations.csv', sql_string)\n",
    "\n",
    "sample_donations = pd.DataFrame(return_query('SELECT * FROM donations LIMIT 3'))\n",
    "sample_donations"
   ]
  },
  {
   "cell_type": "code",
   "execution_count": 31,
   "metadata": {},
   "outputs": [],
   "source": [
    "### Loading the 'donors' table"
   ]
  },
  {
   "cell_type": "code",
   "execution_count": 25,
   "metadata": {},
   "outputs": [
    {
     "data": {
      "text/html": [
       "<div>\n",
       "<style scoped>\n",
       "    .dataframe tbody tr th:only-of-type {\n",
       "        vertical-align: middle;\n",
       "    }\n",
       "\n",
       "    .dataframe tbody tr th {\n",
       "        vertical-align: top;\n",
       "    }\n",
       "\n",
       "    .dataframe thead th {\n",
       "        text-align: right;\n",
       "    }\n",
       "</style>\n",
       "<table border=\"1\" class=\"dataframe\">\n",
       "  <thead>\n",
       "    <tr style=\"text-align: right;\">\n",
       "      <th></th>\n",
       "      <th>0</th>\n",
       "      <th>1</th>\n",
       "      <th>2</th>\n",
       "      <th>3</th>\n",
       "      <th>4</th>\n",
       "    </tr>\n",
       "  </thead>\n",
       "  <tbody>\n",
       "    <tr>\n",
       "      <th>0</th>\n",
       "      <td>00000ce845c00cbf0686c992fc369df4</td>\n",
       "      <td>Evanston</td>\n",
       "      <td>Illinois</td>\n",
       "      <td>No</td>\n",
       "      <td>602</td>\n",
       "    </tr>\n",
       "    <tr>\n",
       "      <th>1</th>\n",
       "      <td>00002783bc5d108510f3f9666c8b1edd</td>\n",
       "      <td>Appomattox</td>\n",
       "      <td>other</td>\n",
       "      <td>No</td>\n",
       "      <td>245</td>\n",
       "    </tr>\n",
       "    <tr>\n",
       "      <th>2</th>\n",
       "      <td>00002d44003ed46b066607c5455a999a</td>\n",
       "      <td>Winton</td>\n",
       "      <td>California</td>\n",
       "      <td>Yes</td>\n",
       "      <td>953</td>\n",
       "    </tr>\n",
       "  </tbody>\n",
       "</table>\n",
       "</div>"
      ],
      "text/plain": [
       "                                  0           1           2    3    4\n",
       "0  00000ce845c00cbf0686c992fc369df4    Evanston    Illinois   No  602\n",
       "1  00002783bc5d108510f3f9666c8b1edd  Appomattox       other   No  245\n",
       "2  00002d44003ed46b066607c5455a999a      Winton  California  Yes  953"
      ]
     },
     "execution_count": 25,
     "metadata": {},
     "output_type": "execute_result"
    }
   ],
   "source": [
    "add_table(\"\"\"CREATE TABLE donors (\n",
    "            donor_id text,\n",
    "            donor_city text,\n",
    "            donor_state text,\n",
    "            donor_is_teacher text,\n",
    "            donor_zip integer\n",
    ")\"\"\")\n",
    "\n",
    "sql_string = \"INSERT INTO donors VALUES(?,?,?,?,?)\"\n",
    "import_csv('donors', 'Donors.csv', sql_string)\n",
    "\n",
    "sample_donor = pd.DataFrame(return_query('SELECT * FROM donors LIMIT 3'))\n",
    "sample_donor"
   ]
  },
  {
   "cell_type": "code",
   "execution_count": 32,
   "metadata": {},
   "outputs": [],
   "source": [
    "### Loading the 'projects' table"
   ]
  },
  {
   "cell_type": "code",
   "execution_count": 26,
   "metadata": {},
   "outputs": [
    {
     "data": {
      "text/html": [
       "<div>\n",
       "<style scoped>\n",
       "    .dataframe tbody tr th:only-of-type {\n",
       "        vertical-align: middle;\n",
       "    }\n",
       "\n",
       "    .dataframe tbody tr th {\n",
       "        vertical-align: top;\n",
       "    }\n",
       "\n",
       "    .dataframe thead th {\n",
       "        text-align: right;\n",
       "    }\n",
       "</style>\n",
       "<table border=\"1\" class=\"dataframe\">\n",
       "  <thead>\n",
       "    <tr style=\"text-align: right;\">\n",
       "      <th></th>\n",
       "      <th>0</th>\n",
       "      <th>1</th>\n",
       "      <th>2</th>\n",
       "      <th>3</th>\n",
       "      <th>4</th>\n",
       "      <th>5</th>\n",
       "      <th>6</th>\n",
       "      <th>7</th>\n",
       "      <th>8</th>\n",
       "      <th>9</th>\n",
       "      <th>10</th>\n",
       "      <th>11</th>\n",
       "      <th>12</th>\n",
       "      <th>13</th>\n",
       "      <th>14</th>\n",
       "      <th>15</th>\n",
       "      <th>16</th>\n",
       "      <th>17</th>\n",
       "    </tr>\n",
       "  </thead>\n",
       "  <tbody>\n",
       "    <tr>\n",
       "      <th>0</th>\n",
       "      <td>7685f0265a19d7b52a470ee4bac883ba</td>\n",
       "      <td>e180c7424cb9c68cb49f141b092a988f</td>\n",
       "      <td>4ee5200e89d9e2998ec8baad8a3c5968</td>\n",
       "      <td>25</td>\n",
       "      <td>Teacher-Led</td>\n",
       "      <td>Stand Up to Bullying: Together We Can!</td>\n",
       "      <td>Did you know that 1-7 students in grades K-12 ...</td>\n",
       "      <td>Did you know that 1-7 students in grades K-12 ...</td>\n",
       "      <td>My students need 25 copies of \"Bullying in Sch...</td>\n",
       "      <td>Applied Learning</td>\n",
       "      <td>Character Education, Early Development</td>\n",
       "      <td>Grades PreK-2</td>\n",
       "      <td>Technology</td>\n",
       "      <td>361.80</td>\n",
       "      <td>2013-01-01</td>\n",
       "      <td>2013-05-30</td>\n",
       "      <td>Fully Funded</td>\n",
       "      <td>2013-01-11</td>\n",
       "    </tr>\n",
       "    <tr>\n",
       "      <th>1</th>\n",
       "      <td>f9f4af7099061fb4bf44642a03e5c331</td>\n",
       "      <td>08b20f1e2125103ed7aa17e8d76c71d4</td>\n",
       "      <td>cca2d1d277fb4adb50147b49cdc3b156</td>\n",
       "      <td>3</td>\n",
       "      <td>Teacher-Led</td>\n",
       "      <td>Learning in Color!</td>\n",
       "      <td>Help us have a fun, interactive listening cent...</td>\n",
       "      <td>Help us have a fun, interactive listening cent...</td>\n",
       "      <td>My students need a listening center, read alon...</td>\n",
       "      <td>Applied Learning, Literacy &amp; Language</td>\n",
       "      <td>Early Development, Literacy</td>\n",
       "      <td>Grades PreK-2</td>\n",
       "      <td>Technology</td>\n",
       "      <td>512.85</td>\n",
       "      <td>2013-01-01</td>\n",
       "      <td>2013-05-31</td>\n",
       "      <td>Expired</td>\n",
       "      <td></td>\n",
       "    </tr>\n",
       "    <tr>\n",
       "      <th>2</th>\n",
       "      <td>afd99a01739ad5557b51b1ba0174e832</td>\n",
       "      <td>1287f5128b1f36bf8434e5705a7cc04d</td>\n",
       "      <td>6c5bd0d4f20547a001628aefd71de89e</td>\n",
       "      <td>1</td>\n",
       "      <td>Teacher-Led</td>\n",
       "      <td>Help Second Grade ESL Students Develop Languag...</td>\n",
       "      <td>Visiting or moving to a new place can be very ...</td>\n",
       "      <td>Visiting or moving to a new place can be very ...</td>\n",
       "      <td>My students need beginning vocabulary audio ca...</td>\n",
       "      <td>Literacy &amp; Language</td>\n",
       "      <td>ESL</td>\n",
       "      <td>Grades PreK-2</td>\n",
       "      <td>Supplies</td>\n",
       "      <td>435.92</td>\n",
       "      <td>2013-01-01</td>\n",
       "      <td>2013-05-30</td>\n",
       "      <td>Fully Funded</td>\n",
       "      <td>2013-05-22</td>\n",
       "    </tr>\n",
       "  </tbody>\n",
       "</table>\n",
       "</div>"
      ],
      "text/plain": [
       "                                 0                                 1   \\\n",
       "0  7685f0265a19d7b52a470ee4bac883ba  e180c7424cb9c68cb49f141b092a988f   \n",
       "1  f9f4af7099061fb4bf44642a03e5c331  08b20f1e2125103ed7aa17e8d76c71d4   \n",
       "2  afd99a01739ad5557b51b1ba0174e832  1287f5128b1f36bf8434e5705a7cc04d   \n",
       "\n",
       "                                 2   3            4   \\\n",
       "0  4ee5200e89d9e2998ec8baad8a3c5968  25  Teacher-Led   \n",
       "1  cca2d1d277fb4adb50147b49cdc3b156   3  Teacher-Led   \n",
       "2  6c5bd0d4f20547a001628aefd71de89e   1  Teacher-Led   \n",
       "\n",
       "                                                  5   \\\n",
       "0             Stand Up to Bullying: Together We Can!   \n",
       "1                                 Learning in Color!   \n",
       "2  Help Second Grade ESL Students Develop Languag...   \n",
       "\n",
       "                                                  6   \\\n",
       "0  Did you know that 1-7 students in grades K-12 ...   \n",
       "1  Help us have a fun, interactive listening cent...   \n",
       "2  Visiting or moving to a new place can be very ...   \n",
       "\n",
       "                                                  7   \\\n",
       "0  Did you know that 1-7 students in grades K-12 ...   \n",
       "1  Help us have a fun, interactive listening cent...   \n",
       "2  Visiting or moving to a new place can be very ...   \n",
       "\n",
       "                                                  8   \\\n",
       "0  My students need 25 copies of \"Bullying in Sch...   \n",
       "1  My students need a listening center, read alon...   \n",
       "2  My students need beginning vocabulary audio ca...   \n",
       "\n",
       "                                      9   \\\n",
       "0                       Applied Learning   \n",
       "1  Applied Learning, Literacy & Language   \n",
       "2                    Literacy & Language   \n",
       "\n",
       "                                       10             11          12      13  \\\n",
       "0  Character Education, Early Development  Grades PreK-2  Technology  361.80   \n",
       "1             Early Development, Literacy  Grades PreK-2  Technology  512.85   \n",
       "2                                     ESL  Grades PreK-2    Supplies  435.92   \n",
       "\n",
       "           14          15            16          17  \n",
       "0  2013-01-01  2013-05-30  Fully Funded  2013-01-11  \n",
       "1  2013-01-01  2013-05-31       Expired              \n",
       "2  2013-01-01  2013-05-30  Fully Funded  2013-05-22  "
      ]
     },
     "execution_count": 26,
     "metadata": {},
     "output_type": "execute_result"
    }
   ],
   "source": [
    "add_table(\"\"\"CREATE TABLE projects (\n",
    "            project_id text,\n",
    "            school_id text,\n",
    "            teacher_id text,\n",
    "            posted_sequence integer,\n",
    "            project_type text,\n",
    "            project_title text,\n",
    "            project_essay text,\n",
    "            short_description text,\n",
    "            need_statement text,\n",
    "            category text,\n",
    "            subcategory text,\n",
    "            grade_level text,\n",
    "            project_resource_category text,\n",
    "            cost real,\n",
    "            project_posted_date text,\n",
    "            project_expiration_date text,\n",
    "            project_status text,\n",
    "            project_funded_date text\n",
    ")\"\"\")\n",
    "\n",
    "sql_string = \"INSERT INTO projects VALUES(?,?,?,?,?,?,?,?,?,?,?,?,?,?,?,?,?,?)\"\n",
    "import_csv('projects', 'Projects.csv', sql_string)\n",
    "\n",
    "sample_project = pd.DataFrame(return_query('SELECT * FROM projects LIMIT 3'))\n",
    "sample_project"
   ]
  },
  {
   "cell_type": "code",
   "execution_count": 33,
   "metadata": {},
   "outputs": [],
   "source": [
    "### Loading the 'resources' table"
   ]
  },
  {
   "cell_type": "code",
   "execution_count": 27,
   "metadata": {},
   "outputs": [
    {
     "data": {
      "text/html": [
       "<div>\n",
       "<style scoped>\n",
       "    .dataframe tbody tr th:only-of-type {\n",
       "        vertical-align: middle;\n",
       "    }\n",
       "\n",
       "    .dataframe tbody tr th {\n",
       "        vertical-align: top;\n",
       "    }\n",
       "\n",
       "    .dataframe thead th {\n",
       "        text-align: right;\n",
       "    }\n",
       "</style>\n",
       "<table border=\"1\" class=\"dataframe\">\n",
       "  <thead>\n",
       "    <tr style=\"text-align: right;\">\n",
       "      <th></th>\n",
       "      <th>0</th>\n",
       "      <th>1</th>\n",
       "      <th>2</th>\n",
       "      <th>3</th>\n",
       "      <th>4</th>\n",
       "    </tr>\n",
       "  </thead>\n",
       "  <tbody>\n",
       "    <tr>\n",
       "      <th>0</th>\n",
       "      <td>000009891526c0ade7180f8423792063</td>\n",
       "      <td>chair move and store cart</td>\n",
       "      <td>1.0</td>\n",
       "      <td>350.00</td>\n",
       "      <td></td>\n",
       "    </tr>\n",
       "    <tr>\n",
       "      <th>1</th>\n",
       "      <td>00000ce845c00cbf0686c992fc369df4</td>\n",
       "      <td>sony mdr zx100 blk   headphones</td>\n",
       "      <td>40.0</td>\n",
       "      <td>12.86</td>\n",
       "      <td>CDW-G</td>\n",
       "    </tr>\n",
       "    <tr>\n",
       "      <th>2</th>\n",
       "      <td>00002d44003ed46b066607c5455a999a</td>\n",
       "      <td>gaiam kids stay-n-play balance ball, grey</td>\n",
       "      <td>4.0</td>\n",
       "      <td>19.00</td>\n",
       "      <td>Amazon Business</td>\n",
       "    </tr>\n",
       "  </tbody>\n",
       "</table>\n",
       "</div>"
      ],
      "text/plain": [
       "                                  0  \\\n",
       "0  000009891526c0ade7180f8423792063   \n",
       "1  00000ce845c00cbf0686c992fc369df4   \n",
       "2  00002d44003ed46b066607c5455a999a   \n",
       "\n",
       "                                           1     2       3                4  \n",
       "0                  chair move and store cart   1.0  350.00                   \n",
       "1            sony mdr zx100 blk   headphones  40.0   12.86            CDW-G  \n",
       "2  gaiam kids stay-n-play balance ball, grey   4.0   19.00  Amazon Business  "
      ]
     },
     "execution_count": 27,
     "metadata": {},
     "output_type": "execute_result"
    }
   ],
   "source": [
    "add_table(\"\"\"CREATE TABLE resources (\n",
    "            project_id text,\n",
    "            resource_name text,\n",
    "            resource_quantity real,\n",
    "            resource_unit_price real,\n",
    "            resource_vendor text\n",
    ")\"\"\")\n",
    "\n",
    "sql_string = \"INSERT INTO resources VALUES(?,?,?,?,?)\"\n",
    "import_csv('resources', 'Resources.csv', sql_string)\n",
    "\n",
    "sample_resource = pd.DataFrame(return_query('SELECT * FROM resources LIMIT 3'))\n",
    "sample_resource"
   ]
  },
  {
   "cell_type": "code",
   "execution_count": 34,
   "metadata": {},
   "outputs": [],
   "source": [
    "### Loading the 'schools' table"
   ]
  },
  {
   "cell_type": "code",
   "execution_count": 28,
   "metadata": {},
   "outputs": [
    {
     "data": {
      "text/html": [
       "<div>\n",
       "<style scoped>\n",
       "    .dataframe tbody tr th:only-of-type {\n",
       "        vertical-align: middle;\n",
       "    }\n",
       "\n",
       "    .dataframe tbody tr th {\n",
       "        vertical-align: top;\n",
       "    }\n",
       "\n",
       "    .dataframe thead th {\n",
       "        text-align: right;\n",
       "    }\n",
       "</style>\n",
       "<table border=\"1\" class=\"dataframe\">\n",
       "  <thead>\n",
       "    <tr style=\"text-align: right;\">\n",
       "      <th></th>\n",
       "      <th>0</th>\n",
       "      <th>1</th>\n",
       "      <th>2</th>\n",
       "      <th>3</th>\n",
       "      <th>4</th>\n",
       "      <th>5</th>\n",
       "      <th>6</th>\n",
       "      <th>7</th>\n",
       "      <th>8</th>\n",
       "    </tr>\n",
       "  </thead>\n",
       "  <tbody>\n",
       "    <tr>\n",
       "      <th>0</th>\n",
       "      <td>00003e0fdd601b8ea0a6eb44057b9c5e</td>\n",
       "      <td>Capon Bridge Middle School</td>\n",
       "      <td>rural</td>\n",
       "      <td>56.0</td>\n",
       "      <td>West Virginia</td>\n",
       "      <td>26711</td>\n",
       "      <td>Capon Bridge</td>\n",
       "      <td>Hampshire</td>\n",
       "      <td>Hampshire Co School District</td>\n",
       "    </tr>\n",
       "    <tr>\n",
       "      <th>1</th>\n",
       "      <td>00004e32a448b4832e1b993500bf0731</td>\n",
       "      <td>The Woodlands College Park High School</td>\n",
       "      <td>urban</td>\n",
       "      <td>41.0</td>\n",
       "      <td>Texas</td>\n",
       "      <td>77384</td>\n",
       "      <td>The Woodlands</td>\n",
       "      <td>Montgomery</td>\n",
       "      <td>Conroe Ind School District</td>\n",
       "    </tr>\n",
       "    <tr>\n",
       "      <th>2</th>\n",
       "      <td>0002021bb799f28de224f1acc1ff08c4</td>\n",
       "      <td>Samantha Smith Elementary School</td>\n",
       "      <td>suburban</td>\n",
       "      <td>2.0</td>\n",
       "      <td>Washington</td>\n",
       "      <td>98074</td>\n",
       "      <td>Sammamish</td>\n",
       "      <td>King</td>\n",
       "      <td>Lake Washington Sch Dist 414</td>\n",
       "    </tr>\n",
       "  </tbody>\n",
       "</table>\n",
       "</div>"
      ],
      "text/plain": [
       "                                  0                                       1  \\\n",
       "0  00003e0fdd601b8ea0a6eb44057b9c5e              Capon Bridge Middle School   \n",
       "1  00004e32a448b4832e1b993500bf0731  The Woodlands College Park High School   \n",
       "2  0002021bb799f28de224f1acc1ff08c4        Samantha Smith Elementary School   \n",
       "\n",
       "          2     3              4      5              6           7  \\\n",
       "0     rural  56.0  West Virginia  26711   Capon Bridge   Hampshire   \n",
       "1     urban  41.0          Texas  77384  The Woodlands  Montgomery   \n",
       "2  suburban   2.0     Washington  98074      Sammamish        King   \n",
       "\n",
       "                              8  \n",
       "0  Hampshire Co School District  \n",
       "1    Conroe Ind School District  \n",
       "2  Lake Washington Sch Dist 414  "
      ]
     },
     "execution_count": 28,
     "metadata": {},
     "output_type": "execute_result"
    }
   ],
   "source": [
    "add_table(\"\"\"CREATE TABLE schools (\n",
    "            school_id text,\n",
    "            school_name text,\n",
    "            school_metro text,\n",
    "            school_percentage real,\n",
    "            school_state text,\n",
    "            school_zip integer,\n",
    "            school_city text,\n",
    "            school_county text,\n",
    "            school_district text\n",
    ")\"\"\")\n",
    "\n",
    "sql_string = \"INSERT INTO schools VALUES(?,?,?,?,?,?,?,?,?)\"\n",
    "import_csv('schools', 'Schools.csv', sql_string)\n",
    "\n",
    "sample_school = pd.DataFrame(return_query('SELECT * FROM schools LIMIT 3'))\n",
    "sample_school"
   ]
  },
  {
   "cell_type": "code",
   "execution_count": 35,
   "metadata": {},
   "outputs": [],
   "source": [
    "### Loading the 'teachers' table"
   ]
  },
  {
   "cell_type": "code",
   "execution_count": 29,
   "metadata": {},
   "outputs": [
    {
     "data": {
      "text/html": [
       "<div>\n",
       "<style scoped>\n",
       "    .dataframe tbody tr th:only-of-type {\n",
       "        vertical-align: middle;\n",
       "    }\n",
       "\n",
       "    .dataframe tbody tr th {\n",
       "        vertical-align: top;\n",
       "    }\n",
       "\n",
       "    .dataframe thead th {\n",
       "        text-align: right;\n",
       "    }\n",
       "</style>\n",
       "<table border=\"1\" class=\"dataframe\">\n",
       "  <thead>\n",
       "    <tr style=\"text-align: right;\">\n",
       "      <th></th>\n",
       "      <th>0</th>\n",
       "      <th>1</th>\n",
       "      <th>2</th>\n",
       "    </tr>\n",
       "  </thead>\n",
       "  <tbody>\n",
       "    <tr>\n",
       "      <th>0</th>\n",
       "      <td>00000f7264c27ba6fea0c837ed6aa0aa</td>\n",
       "      <td>Mrs.</td>\n",
       "      <td>2013-08-21</td>\n",
       "    </tr>\n",
       "    <tr>\n",
       "      <th>1</th>\n",
       "      <td>00002d44003ed46b066607c5455a999a</td>\n",
       "      <td>Mrs.</td>\n",
       "      <td>2016-10-23</td>\n",
       "    </tr>\n",
       "    <tr>\n",
       "      <th>2</th>\n",
       "      <td>00006084c3d92d904a22e0a70f5c119a</td>\n",
       "      <td>Mr.</td>\n",
       "      <td>2016-09-08</td>\n",
       "    </tr>\n",
       "  </tbody>\n",
       "</table>\n",
       "</div>"
      ],
      "text/plain": [
       "                                  0     1           2\n",
       "0  00000f7264c27ba6fea0c837ed6aa0aa  Mrs.  2013-08-21\n",
       "1  00002d44003ed46b066607c5455a999a  Mrs.  2016-10-23\n",
       "2  00006084c3d92d904a22e0a70f5c119a   Mr.  2016-09-08"
      ]
     },
     "execution_count": 29,
     "metadata": {},
     "output_type": "execute_result"
    }
   ],
   "source": [
    "add_table(\"\"\"CREATE TABLE teachers (\n",
    "            teacher_id text,\n",
    "            teacher_prefix text,\n",
    "            teacher_first_project text\n",
    ")\"\"\")\n",
    "\n",
    "sql_string = \"INSERT INTO teachers VALUES(?,?,?)\"\n",
    "import_csv('teachers', 'Teachers.csv', sql_string)\n",
    "\n",
    "sample_teacher = pd.DataFrame(return_query('SELECT * FROM teachers LIMIT 3'))\n",
    "sample_teacher"
   ]
  },
  {
   "cell_type": "markdown",
   "metadata": {},
   "source": [
    "<a id = 'data_cleaning'></a>\n",
    "# Data Cleaning"
   ]
  },
  {
   "cell_type": "code",
   "execution_count": 36,
   "metadata": {},
   "outputs": [],
   "source": [
    "### Before performing EDA towards our objective, I'll quickly check for completeness of each table. \n",
    "### Given we have millions of records in our database, we'll investigate any table containing fields that -\n",
    "### have more than 3% missing data. "
   ]
  },
  {
   "cell_type": "code",
   "execution_count": 58,
   "metadata": {},
   "outputs": [
    {
     "name": "stdout",
     "output_type": "stream",
     "text": [
      "Percent of project_id that are Null: 0.0\n",
      "Percent of donation_id that are Null: 0.0\n",
      "Percent of donor_id that are Null: 0.0\n",
      "Percent of optional_donation that are Null: 0.0\n",
      "Percent of donation_amount that are Null: 0.0\n",
      "Percent of cart_sequence that are Null: 0.0\n",
      "Percent of receipt_date that are Null: 0.0\n"
     ]
    }
   ],
   "source": [
    "### Check for nulls in the 'donations' table:\n",
    "\n",
    "donations_fields = ['project_id', 'donation_id', 'donor_id', 'optional_donation', 'donation_amount', 'cart_sequence',\n",
    "            'receipt_date']\n",
    "\n",
    "for column in donations_fields:\n",
    "    num_nulls = return_query(\"SELECT COUNT(*) FROM donations WHERE \"+column+\" ='' \")\n",
    "    num_total = return_query(\"SELECT COUNT(*) FROM donations\")\n",
    "    percent_null = str(num_nulls[0][0]/num_total[0][0])\n",
    "    \n",
    "    print(\"Percent of \"+column+\" that are Null\"+\": \"+percent_null)"
   ]
  },
  {
   "cell_type": "code",
   "execution_count": 60,
   "metadata": {},
   "outputs": [
    {
     "name": "stdout",
     "output_type": "stream",
     "text": [
      "Percent of donor_id that are Null: 0.0\n",
      "Percent of donor_city that are Null: 0.10039243583462104\n",
      "Percent of donor_state that are Null: 0.0\n",
      "Percent of donor_is_teacher that are Null: 0.0\n",
      "Percent of donor_zip that are Null: 0.08482832698903253\n"
     ]
    }
   ],
   "source": [
    "## Check for nulls in the 'donors' table:\n",
    "\n",
    "donors_fields = ['donor_id',\n",
    "            'donor_city',\n",
    "            'donor_state',\n",
    "            'donor_is_teacher',\n",
    "            'donor_zip']\n",
    "\n",
    "for column in donors_fields:\n",
    "    num_nulls = return_query(\"SELECT COUNT(*) FROM donors WHERE \"+column+\" = '' \")\n",
    "    num_total = return_query(\"SELECT COUNT(*) FROM donors\")\n",
    "    percent_null = str(num_nulls[0][0] / num_total[0][0])\n",
    "    \n",
    "    print(\"Percent of \"+column+\" that are Null\"+\": \"+percent_null)"
   ]
  },
  {
   "cell_type": "code",
   "execution_count": 59,
   "metadata": {},
   "outputs": [
    {
     "name": "stdout",
     "output_type": "stream",
     "text": [
      "Percent of project_id that are Null: 0.0\n",
      "Percent of school_id that are Null: 0.0\n",
      "Percent of teacher_id that are Null: 0.0\n",
      "Percent of posted_sequence that are Null: 0.0\n",
      "Percent of project_type that are Null: 0.0\n",
      "Percent of project_title that are Null: 5.405322621185081e-06\n",
      "Percent of project_essay that are Null: 9.008871035308468e-07\n",
      "Percent of short_description that are Null: 2.7026613105925407e-06\n",
      "Percent of need_statement that are Null: 2.7026613105925407e-06\n",
      "Percent of category that are Null: 2.612572600239456e-05\n",
      "Percent of subcategory that are Null: 2.612572600239456e-05\n",
      "Percent of grade_level that are Null: 0.0\n",
      "Percent of project_resource_category that are Null: 3.243193572711048e-05\n",
      "Percent of cost that are Null: 0.0\n",
      "Percent of project_posted_date that are Null: 0.0\n",
      "Percent of project_expiration_date that are Null: 1.2612419449431855e-05\n",
      "Percent of project_status that are Null: 0.0\n",
      "Percent of project_funded_date that are Null: 0.255178974736423\n"
     ]
    }
   ],
   "source": [
    "## Check for nulls in the 'projects' table:\n",
    "\n",
    "projects_fields = ['project_id',\n",
    "            'school_id',\n",
    "            'teacher_id',\n",
    "            'posted_sequence',\n",
    "            'project_type',\n",
    "            'project_title',\n",
    "            'project_essay',\n",
    "            'short_description',\n",
    "            'need_statement',\n",
    "            'category',\n",
    "            'subcategory',\n",
    "            'grade_level',\n",
    "            'project_resource_category',\n",
    "            'cost',\n",
    "            'project_posted_date',\n",
    "            'project_expiration_date',\n",
    "            'project_status',\n",
    "            'project_funded_date']\n",
    "\n",
    "for column in projects_fields:\n",
    "    num_nulls = return_query(\"SELECT COUNT(*) FROM projects WHERE \"+column+\" = '' \")\n",
    "    num_total = return_query(\"SELECT COUNT(*) FROM projects\")\n",
    "    percent_null = str(num_nulls[0][0] / num_total[0][0])\n",
    "    \n",
    "    print(\"Percent of \"+column+\" that are Null\"+\": \"+percent_null)"
   ]
  },
  {
   "cell_type": "code",
   "execution_count": 61,
   "metadata": {},
   "outputs": [
    {
     "name": "stdout",
     "output_type": "stream",
     "text": [
      "Percent of project_id that are Null: 0.0\n",
      "Percent of resource_name that are Null: 7.780376475913841e-05\n",
      "Percent of resource_quantity that are Null: 0.0033699709088811126\n",
      "Percent of resource_unit_price that are Null: 0.0033714964728959974\n",
      "Percent of resource_vendor that are Null: 0.011371554166953287\n"
     ]
    }
   ],
   "source": [
    "## Check for nulls in the 'resources' table:\n",
    "\n",
    "resources_fields = ['project_id',\n",
    "            'resource_name',\n",
    "            'resource_quantity',\n",
    "            'resource_unit_price',\n",
    "            'resource_vendor']\n",
    "\n",
    "for column in resources_fields:\n",
    "    num_nulls = return_query(\"SELECT COUNT(*) FROM resources WHERE \"+column+\" = '' \")\n",
    "    num_total = return_query(\"SELECT COUNT(*) FROM resources\")\n",
    "    percent_null = str(num_nulls[0][0] / num_total[0][0])\n",
    "    \n",
    "    print(\"Percent of \"+column+\" that are Null\"+\": \"+percent_null)"
   ]
  },
  {
   "cell_type": "code",
   "execution_count": 62,
   "metadata": {},
   "outputs": [
    {
     "name": "stdout",
     "output_type": "stream",
     "text": [
      "Percent of school_id that are Null: 0.0\n",
      "Percent of school_name that are Null: 0.0\n",
      "Percent of school_metro that are Null: 0.0\n",
      "Percent of school_percentage that are Null: 0.015631635910292766\n",
      "Percent of school_state that are Null: 0.0\n",
      "Percent of school_zip that are Null: 0.0\n",
      "Percent of school_city that are Null: 0.003109887249462277\n",
      "Percent of school_county that are Null: 2.739988766046059e-05\n",
      "Percent of school_district that are Null: 0.0\n"
     ]
    }
   ],
   "source": [
    "## Check for nulls in the 'schools' table:\n",
    "\n",
    "schools_fields = ['school_id',\n",
    "            'school_name',\n",
    "            'school_metro',\n",
    "            'school_percentage',\n",
    "            'school_state',\n",
    "            'school_zip',\n",
    "            'school_city',\n",
    "            'school_county',\n",
    "            'school_district']\n",
    "\n",
    "for column in schools_fields:\n",
    "    num_nulls = return_query(\"SELECT COUNT(*) FROM schools WHERE \"+column+\" = '' \")\n",
    "    num_total = return_query(\"SELECT COUNT(*) FROM schools\")\n",
    "    percent_null = str(num_nulls[0][0] / num_total[0][0])\n",
    "    \n",
    "    print(\"Percent of \"+column+\" that are Null\"+\": \"+percent_null)"
   ]
  },
  {
   "cell_type": "code",
   "execution_count": 63,
   "metadata": {},
   "outputs": [
    {
     "name": "stdout",
     "output_type": "stream",
     "text": [
      "Percent of teacher_id that are Null: 0.0\n",
      "Percent of teacher_prefix that are Null: 6.949615289153636e-05\n",
      "Percent of teacher_first_project that are Null: 0.0\n"
     ]
    }
   ],
   "source": [
    "## Check for nulls in the 'teachers' table:\n",
    "\n",
    "teachers_fields = ['teacher_id',\n",
    "            'teacher_prefix',\n",
    "            'teacher_first_project']\n",
    "\n",
    "for column in teachers_fields:\n",
    "    num_nulls = return_query(\"SELECT COUNT(*) FROM teachers WHERE \"+column+\" = '' \")\n",
    "    num_total = return_query(\"SELECT COUNT(*) FROM teachers\")\n",
    "    percent_null = str(num_nulls[0][0] / num_total[0][0])\n",
    "    \n",
    "    print(\"Percent of \"+column+\" that are Null\"+\": \"+percent_null)"
   ]
  },
  {
   "cell_type": "markdown",
   "metadata": {},
   "source": [
    "### Conclusion on completeness of data:\n",
    "\n",
    "In our databse, only one table - the 'donor' table - contains a significant (i.e., greater than 3% per field) amount of omissions. In particular, the 'donor_city' and 'donor_zip' (zipcode of donor) fields have significant proportion of missing data. Our subsequent analysis will not require these fields as input and therefore no further work considered necessary."
   ]
  },
  {
   "cell_type": "markdown",
   "metadata": {},
   "source": [
    "<a id = \"eda\"></a>\n",
    "# Exploratory Data Analysis"
   ]
  },
  {
   "cell_type": "markdown",
   "metadata": {},
   "source": [
    "<a id = \"preliminary_analysis\"></a>\n",
    "# Preliminary Analysis"
   ]
  },
  {
   "cell_type": "code",
   "execution_count": 68,
   "metadata": {},
   "outputs": [
    {
     "name": "stdout",
     "output_type": "stream",
     "text": [
      "Summary of donations:\n",
      "count: 4687884\n",
      "mean: 60.67\n",
      "sum: 284408243.28\n"
     ]
    }
   ],
   "source": [
    "### Caluclating the count, mean and sum of all donations\n",
    "\n",
    "count = str(round(return_query('SELECT COUNT(*) FROM donations')[0][0],2))\n",
    "mean = str(round(return_query('SELECT AVG(donation_amount) FROM donations')[0][0],2))\n",
    "total = str(round(return_query('SELECT SUM(donation_amount) FROM donations')[0][0],2))\n",
    "\n",
    "print(\"Summary of donations:\")\n",
    "print(\"count: {}\".format(count))\n",
    "print(\"mean: {}\".format(mean))\n",
    "print(\"sum: {}\".format(total))\n"
   ]
  },
  {
   "cell_type": "code",
   "execution_count": 73,
   "metadata": {},
   "outputs": [
    {
     "name": "stdout",
     "output_type": "stream",
     "text": [
      "Count of unique donors: 2122640. Count of unique projects: 1110015\n"
     ]
    }
   ],
   "source": [
    "### Calculating the total number of distinct donors and distinct projects\n",
    "\n",
    "count_donors = str(return_query(\"SELECT COUNT(DISTINCT donor_id) FROM donors\")[0][0])\n",
    "count_projects = str(return_query(\"SELECT COUNT(DISTINCT project_id) FROM projects\")[0][0])\n",
    "\n",
    "print(\"Count of unique donors: {}. Count of unique projects: {}\".format(count_donors, count_projects))"
   ]
  },
  {
   "cell_type": "markdown",
   "metadata": {},
   "source": [
    "The above metrics provide a basic understanding of the scale of the information that we're working with. We now move onto more substantial analysis towards our objective. The overall approach in the subsequent analysis attemps to first identify the most important characteristics of repeat donors (that is: donors that have more than a single donation). These characteristics will then be used to filter first-time donors to identify those first-time donors that are susceptible to further donations if targetted with promotional activities. \n",
    "\n",
    "In identifying the characteristics of repeat donors, we'll ask the following:\n",
    "\n",
    "1. Where do repeat donors live?\n",
    "2. How much do repeat donors tend to donate?\n",
    "3. Do repeat donors tend to be teachers?\n",
    "4. What do repeat donors invest in? "
   ]
  },
  {
   "cell_type": "markdown",
   "metadata": {},
   "source": [
    "<a id=\"donor_location\"></a>\n",
    "# Location of repeat donors"
   ]
  },
  {
   "cell_type": "markdown",
   "metadata": {},
   "source": [
    "Because the 'donor' table provides locations for each donor, we'll visualize the whereabouts of repeat donors in Tableau. To expedite the loading of data into Tableau, we'll output a CSV containing a tablue summary of the location of donors and their donations for those donors that made more than one donation."
   ]
  },
  {
   "cell_type": "markdown",
   "metadata": {},
   "source": [
    "## Locating repeat donors"
   ]
  },
  {
   "cell_type": "code",
   "execution_count": 83,
   "metadata": {},
   "outputs": [],
   "source": [
    "### Before we make our output, let's determine the portion of donors that make repeat donations."
   ]
  },
  {
   "cell_type": "code",
   "execution_count": 79,
   "metadata": {},
   "outputs": [
    {
     "name": "stdout",
     "output_type": "stream",
     "text": [
      "repeats = 552941, firsts = 1471613, control = 2024554\n"
     ]
    }
   ],
   "source": [
    "count_repeaters = \"\"\"\n",
    "SELECT COUNT(*)\n",
    "FROM\n",
    "(SELECT donor_id, COUNT(*)\n",
    "FROM donations\n",
    "GROUP BY donor_id\n",
    "HAVING COUNT(*)>1)\n",
    "\"\"\"\n",
    "\n",
    "count_firsts = \"\"\"\n",
    "SELECT COUNT(*)\n",
    "FROM\n",
    "(SELECT donor_id, COUNT(*)\n",
    "FROM donations\n",
    "GROUP BY donor_id\n",
    "HAVING COUNT(*)=1)\n",
    "\"\"\"\n",
    "\n",
    "count_control = \"\"\"\n",
    "SELECT COUNT(DISTINCT donor_id)\n",
    "FROM donations\n",
    "\n",
    "\"\"\"\n",
    "\n",
    "repeats = str(return_query(count_repeaters)[0][0])\n",
    "firsts = str(return_query(count_firsts)[0][0])\n",
    "control = str(return_query(count_control)[0][0])\n",
    "\n",
    "print(\"repeats = {}, firsts = {}, control = {}\".format(repeats, firsts, control))\n"
   ]
  },
  {
   "cell_type": "code",
   "execution_count": 82,
   "metadata": {},
   "outputs": [
    {
     "name": "stdout",
     "output_type": "stream",
     "text": [
      "Out of a total of 2024554 unique donors, only 552941 donors made more than 1 donation\n"
     ]
    }
   ],
   "source": [
    "print(\"Out of a total of {} unique donors, only {} donors made more than 1 donation\".format(control, repeats))"
   ]
  },
  {
   "cell_type": "code",
   "execution_count": 84,
   "metadata": {},
   "outputs": [],
   "source": [
    "### Now, for purposes of visualization using Tableau, let's output:\n",
    "\n",
    "# 1 - a table showing count of repeat donors by state, and;\n",
    "# 2 - a table showing count of first-time donors by state."
   ]
  },
  {
   "cell_type": "code",
   "execution_count": 121,
   "metadata": {},
   "outputs": [],
   "source": [
    "### Outputting two tables showing (1) count of repeat donors by state and (1) count offirst-time donors by state\n",
    "\n",
    "repeats_query = \"\"\"\n",
    "SELECT donors.donor_state, COUNT(*) AS repeat_donors\n",
    "FROM donors\n",
    "JOIN\n",
    "(SELECT donor_id, COUNT(*)\n",
    "FROM donations\n",
    "GROUP BY donor_id\n",
    "HAVING COUNT(*)>1) AS b\n",
    "ON donors.donor_id = b.donor_id\n",
    "GROUP BY donors.donor_state\"\"\"\n",
    "\n",
    "single_query = \"\"\"\n",
    "SELECT donors.donor_state, COUNT(*) AS firsts_donors\n",
    "FROM donors\n",
    "JOIN\n",
    "(SELECT donor_id, COUNT(*)\n",
    "FROM donations\n",
    "GROUP BY donor_id\n",
    "HAVING COUNT(*)=1) AS b\n",
    "ON donors.donor_id = b.donor_id\n",
    "GROUP BY donors.donor_state\"\"\"\n",
    "\n",
    "returns_output = pd.DataFrame(return_query(repeats_query), columns=['State','Repeat Donors'])\n",
    "single_output = pd.DataFrame(return_query(single_query), columns = ['State', 'First Donors'])"
   ]
  },
  {
   "cell_type": "code",
   "execution_count": 122,
   "metadata": {},
   "outputs": [
    {
     "data": {
      "text/html": [
       "<div>\n",
       "<style scoped>\n",
       "    .dataframe tbody tr th:only-of-type {\n",
       "        vertical-align: middle;\n",
       "    }\n",
       "\n",
       "    .dataframe tbody tr th {\n",
       "        vertical-align: top;\n",
       "    }\n",
       "\n",
       "    .dataframe thead th {\n",
       "        text-align: right;\n",
       "    }\n",
       "</style>\n",
       "<table border=\"1\" class=\"dataframe\">\n",
       "  <thead>\n",
       "    <tr style=\"text-align: right;\">\n",
       "      <th></th>\n",
       "      <th>State</th>\n",
       "      <th>Repeat Donors</th>\n",
       "    </tr>\n",
       "  </thead>\n",
       "  <tbody>\n",
       "    <tr>\n",
       "      <th>0</th>\n",
       "      <td>Alabama</td>\n",
       "      <td>6046</td>\n",
       "    </tr>\n",
       "    <tr>\n",
       "      <th>1</th>\n",
       "      <td>Alaska</td>\n",
       "      <td>1245</td>\n",
       "    </tr>\n",
       "  </tbody>\n",
       "</table>\n",
       "</div>"
      ],
      "text/plain": [
       "     State  Repeat Donors\n",
       "0  Alabama           6046\n",
       "1   Alaska           1245"
      ]
     },
     "execution_count": 122,
     "metadata": {},
     "output_type": "execute_result"
    }
   ],
   "source": [
    "returns_output.head(2)"
   ]
  },
  {
   "cell_type": "code",
   "execution_count": 123,
   "metadata": {},
   "outputs": [
    {
     "data": {
      "text/html": [
       "<div>\n",
       "<style scoped>\n",
       "    .dataframe tbody tr th:only-of-type {\n",
       "        vertical-align: middle;\n",
       "    }\n",
       "\n",
       "    .dataframe tbody tr th {\n",
       "        vertical-align: top;\n",
       "    }\n",
       "\n",
       "    .dataframe thead th {\n",
       "        text-align: right;\n",
       "    }\n",
       "</style>\n",
       "<table border=\"1\" class=\"dataframe\">\n",
       "  <thead>\n",
       "    <tr style=\"text-align: right;\">\n",
       "      <th></th>\n",
       "      <th>State</th>\n",
       "      <th>First Donors</th>\n",
       "    </tr>\n",
       "  </thead>\n",
       "  <tbody>\n",
       "    <tr>\n",
       "      <th>0</th>\n",
       "      <td>Alabama</td>\n",
       "      <td>16030</td>\n",
       "    </tr>\n",
       "    <tr>\n",
       "      <th>1</th>\n",
       "      <td>Alaska</td>\n",
       "      <td>3006</td>\n",
       "    </tr>\n",
       "  </tbody>\n",
       "</table>\n",
       "</div>"
      ],
      "text/plain": [
       "     State  First Donors\n",
       "0  Alabama         16030\n",
       "1   Alaska          3006"
      ]
     },
     "execution_count": 123,
     "metadata": {},
     "output_type": "execute_result"
    }
   ],
   "source": [
    "single_output.head(2)"
   ]
  },
  {
   "cell_type": "code",
   "execution_count": 125,
   "metadata": {},
   "outputs": [],
   "source": [
    "### publishing the two tables to the same directory:\n",
    "\n",
    "returns_output.to_csv('return_donors_by_state.csv')\n",
    "single_output.to_csv('first_donors_by_state.csv')"
   ]
  },
  {
   "cell_type": "markdown",
   "metadata": {},
   "source": [
    "Using the outputs created above, the locations of repeat donors will be visualized in Tableau"
   ]
  },
  {
   "cell_type": "markdown",
   "metadata": {},
   "source": [
    "<a id = \"donation_amount\"></a>\n",
    "## Determining amount typically donated by repeat donors"
   ]
  },
  {
   "cell_type": "code",
   "execution_count": 127,
   "metadata": {},
   "outputs": [],
   "source": [
    "### In this part of the analysis, we'll identify:\n",
    "\n",
    "# 1. The mean donation of repeat donors,\n",
    "# 2. The median donation of repeat donors, and;\n",
    "# 3. The visual representation of the distribution of donation amounts for all repeat donors.\n"
   ]
  },
  {
   "cell_type": "code",
   "execution_count": 134,
   "metadata": {},
   "outputs": [],
   "source": [
    "### Calculating the mean and median donations by repeat donors:\n",
    "\n",
    "mean_median_query = \"\"\"\n",
    "SELECT donation_id, donations.donor_id, donation_amount\n",
    "FROM donations JOIN\n",
    "(SELECT donor_id, COUNT(*)\n",
    "FROM donations\n",
    "GROUP BY donor_id\n",
    "HAVING COUNT(*)>1) AS b\n",
    "ON donations.donor_id = b.donor_id\n",
    "\"\"\"\n",
    "\n",
    "mean_median_df = pd.DataFrame(return_query(mean_median_query), columns= ['donation_id', \n",
    "                                                                        'donor_id',\n",
    "                                                                        'donation_amount'])"
   ]
  },
  {
   "cell_type": "code",
   "execution_count": 147,
   "metadata": {},
   "outputs": [],
   "source": [
    "repeat_mean = round(mean_median_df['donation_amount'].mean(), 2)\n",
    "repeat_median = round(mean_median_df['donation_amount'].median(), 2)"
   ]
  },
  {
   "cell_type": "code",
   "execution_count": 158,
   "metadata": {},
   "outputs": [
    {
     "name": "stdout",
     "output_type": "stream",
     "text": [
      "The mean donation of repeat donors is 63.99, and the median donation of repeat donors is 25.0\n"
     ]
    }
   ],
   "source": [
    "print('The mean donation of repeat donors is {}, and the median donation of repeat donors is {}'\\\n",
    "      .format(repeat_mean, repeat_median))\n"
   ]
  },
  {
   "cell_type": "markdown",
   "metadata": {},
   "source": [
    "It looks like a few large donations are causing a difference in the mean and median donations. To verify, we'll visualize the distribution of donations in Tableau. "
   ]
  },
  {
   "cell_type": "code",
   "execution_count": 161,
   "metadata": {},
   "outputs": [],
   "source": [
    "### Output a CSV including donation amounts for all donations made by repeat donors\n",
    "\n",
    "mean_median_df.to_csv('repeat_donation_amounts.csv')"
   ]
  },
  {
   "cell_type": "markdown",
   "metadata": {},
   "source": [
    "The distribution of donation amounts for repeat donors is visualized in the accompanying Tableau dashboard."
   ]
  },
  {
   "cell_type": "markdown",
   "metadata": {},
   "source": [
    "<a id = 'teacher_donors'></a>\n",
    "# Do repeat donors tend to be teachers?"
   ]
  },
  {
   "cell_type": "code",
   "execution_count": 165,
   "metadata": {},
   "outputs": [],
   "source": [
    "# We require a table showing, for all repeat donors, whether or not they are teachers:\n",
    "\n",
    "teacher_query = \"\"\"\n",
    "SELECT donors.donor_id, donors.donor_is_teacher\n",
    "FROM donors\n",
    "JOIN\n",
    "(SELECT donor_id, COUNT(*)\n",
    "FROM donations\n",
    "GROUP BY donor_id\n",
    "HAVING COUNT(*)>1) AS b\n",
    "ON donors.donor_id = b.donor_id\n",
    "\"\"\"\n",
    "\n",
    "\n",
    "teacher_df = pd.DataFrame(return_query(teacher_query))"
   ]
  },
  {
   "cell_type": "code",
   "execution_count": 212,
   "metadata": {},
   "outputs": [],
   "source": [
    "### For visualization purposes, we'll output teacher_df as a CSV file for input into Tableau:\n",
    "\n",
    "teacher_df[1:].to_csv(\"repeat_teachers.csv\")"
   ]
  },
  {
   "cell_type": "code",
   "execution_count": 194,
   "metadata": {},
   "outputs": [
    {
     "name": "stdout",
     "output_type": "stream",
     "text": [
      "Of all repeat donors, 133074 are teachers and 419598 are not teachers. 24.08 percent of repeat                    donors are teachers\n"
     ]
    }
   ],
   "source": [
    "are_teachers = teacher_df[1]=='Yes'\n",
    "are_teachers = are_teachers.sum()\n",
    "\n",
    "not_teachers = teacher_df[1]=='No'\n",
    "not_teachers = not_teachers.sum()\n",
    "\n",
    "percent_repeat_teachers = round(100*are_teachers / (are_teachers + not_teachers),2)\n",
    "\n",
    "teacher_output = \"Of all repeat donors, {} are teachers and {} are not teachers. {} percent of repeat\\\n",
    "                    donors are teachers\".format\\\n",
    "                    (str(are_teachers),str(not_teachers), str(percent_repeat_teachers))\n",
    "print(teacher_output)\n",
    "\n"
   ]
  },
  {
   "cell_type": "code",
   "execution_count": 196,
   "metadata": {},
   "outputs": [],
   "source": [
    "### We'll repeat the same analysis for non-repeat donors (i.e., determine the frequency of teachers amongst)\n",
    "### non-repeat donors.\n",
    "\n",
    "teacher_query_non_repeat = \"\"\"\n",
    "SELECT donors.donor_id, donors.donor_is_teacher\n",
    "FROM donors\n",
    "JOIN\n",
    "(SELECT donor_id, COUNT(*)\n",
    "FROM donations\n",
    "GROUP BY donor_id\n",
    "HAVING COUNT(*)=1) AS b\n",
    "ON donors.donor_id = b.donor_id\n",
    "\"\"\"\n",
    "\n",
    "teacher_df_non_repeat = pd.DataFrame(return_query(teacher_query_non_repeat))"
   ]
  },
  {
   "cell_type": "code",
   "execution_count": 213,
   "metadata": {},
   "outputs": [],
   "source": [
    "### For visualization purposes, we'll output teacher_df as a CSV file for input into Tableau:\n",
    "\n",
    "teacher_df_non_repeat[1:].to_csv(\"non_repeat_teachers.csv\")"
   ]
  },
  {
   "cell_type": "code",
   "execution_count": 210,
   "metadata": {},
   "outputs": [
    {
     "name": "stdout",
     "output_type": "stream",
     "text": [
      "Of all first-time donors, 77165 are teachers and 1389125 are not teachers. 5.26 \n",
      "percent of first-time donors are teachers\n"
     ]
    }
   ],
   "source": [
    "non_repeat_teachers = teacher_df_non_repeat[1] == 'Yes'\n",
    "non_repeat_teachers = non_repeat_teachers.sum()\n",
    "\n",
    "non_repeat_regulars = teacher_df_non_repeat[1] == \"No\"\n",
    "non_repeat_regulars = non_repeat_regulars.sum()\n",
    "\n",
    "percent_teachers_firsts = round(100*non_repeat_teachers / (non_repeat_teachers+non_repeat_regulars), 2)\n",
    "\n",
    "firsts_teacher_output = \"\"\"Of all first-time donors, {} are teachers and {} are not teachers. {} \n",
    "percent of first-time donors are teachers\"\"\"\n",
    "\n",
    "firsts_teacher_output = firsts_teacher_output.format(str(non_repeat_teachers),str(non_repeat_regulars), str(percent_teachers_firsts))\n",
    "                                                     \n",
    "print(firsts_teacher_output)\n",
    "\n"
   ]
  },
  {
   "cell_type": "code",
   "execution_count": 239,
   "metadata": {},
   "outputs": [
    {
     "name": "stdout",
     "output_type": "stream",
     "text": [
      "There are a total of 552672 donors that are repeat donors\n"
     ]
    }
   ],
   "source": [
    "slide_string_1 = \"There are a total of {} donors that are repeat donors\".format(str(are_teachers+not_teachers))\n",
    "print(slide_string_1)"
   ]
  },
  {
   "cell_type": "code",
   "execution_count": 216,
   "metadata": {},
   "outputs": [
    {
     "data": {
      "text/html": [
       "<div>\n",
       "<style scoped>\n",
       "    .dataframe tbody tr th:only-of-type {\n",
       "        vertical-align: middle;\n",
       "    }\n",
       "\n",
       "    .dataframe tbody tr th {\n",
       "        vertical-align: top;\n",
       "    }\n",
       "\n",
       "    .dataframe thead th {\n",
       "        text-align: right;\n",
       "    }\n",
       "</style>\n",
       "<table border=\"1\" class=\"dataframe\">\n",
       "  <thead>\n",
       "    <tr style=\"text-align: right;\">\n",
       "      <th></th>\n",
       "      <th>0</th>\n",
       "      <th>1</th>\n",
       "    </tr>\n",
       "  </thead>\n",
       "  <tbody>\n",
       "    <tr>\n",
       "      <th>0</th>\n",
       "      <td>00000ce845c00cbf0686c992fc369df4</td>\n",
       "      <td>No</td>\n",
       "    </tr>\n",
       "    <tr>\n",
       "      <th>1</th>\n",
       "      <td>00002783bc5d108510f3f9666c8b1edd</td>\n",
       "      <td>No</td>\n",
       "    </tr>\n",
       "  </tbody>\n",
       "</table>\n",
       "</div>"
      ],
      "text/plain": [
       "                                  0   1\n",
       "0  00000ce845c00cbf0686c992fc369df4  No\n",
       "1  00002783bc5d108510f3f9666c8b1edd  No"
      ]
     },
     "execution_count": 216,
     "metadata": {},
     "output_type": "execute_result"
    }
   ],
   "source": [
    "teacher_df_non_repeat.head(2)"
   ]
  },
  {
   "cell_type": "markdown",
   "metadata": {},
   "source": [
    "The accompanying Tableau Dashboards take as input the above output CSVs and visualize the proportion of teachers amongst first-time and repeat donors."
   ]
  },
  {
   "cell_type": "markdown",
   "metadata": {},
   "source": [
    "<a id = \"project_types\"></a>\n",
    "# What do repeat donors tend to donate for?"
   ]
  },
  {
   "cell_type": "code",
   "execution_count": 251,
   "metadata": {},
   "outputs": [],
   "source": [
    "### To identify the common themes that attract repeat donors, we'll create a word cloud in tableau which will\n",
    "### require as input a table of all the project titles that were donated to by repeat donors. \n",
    "### We produce that CSV in the below:\n",
    "\n",
    "project_query = \"\"\"\n",
    "\n",
    "SELECT projects.category, projects.project_posted_date\n",
    "FROM projects\n",
    "JOIN\n",
    "(SELECT donations.project_id, b.donor_id\n",
    "FROM donations\n",
    "JOIN\n",
    "(SELECT donor_id,COUNT(*)\n",
    "FROM donations\n",
    "GROUP BY donor_id\n",
    "HAVING COUNT(*)>1) AS b\n",
    "ON donations.donor_id = b.donor_id) AS c\n",
    "ON projects.project_id = c.project_id\n",
    "\n",
    "\n",
    "\"\"\"\n",
    "\n",
    "returned_projects = return_query(project_query)"
   ]
  },
  {
   "cell_type": "markdown",
   "metadata": {},
   "source": [
    "We now split each of the names of popular projects into their individual words. we'll output this result as a csv to be visualized in Tableau as a word cloud (to identify popular themes). We'll only consider those projects that were posted in 2018 (so that we can get a sense of which projects were relevant to recent donors)."
   ]
  },
  {
   "cell_type": "code",
   "execution_count": 252,
   "metadata": {},
   "outputs": [],
   "source": [
    "words = []\n",
    "\n",
    "for i in returned_projects:\n",
    "    if i[1][:4] == '2018':\n",
    "        for j in i[0].split(' '):\n",
    "            words.append(j)\n",
    "    else:\n",
    "        pass"
   ]
  },
  {
   "cell_type": "code",
   "execution_count": 255,
   "metadata": {},
   "outputs": [],
   "source": [
    "words_df = pd.DataFrame(words)\n",
    "words_df.to_csv('repeat_donor_projects_words.csv')"
   ]
  },
  {
   "cell_type": "markdown",
   "metadata": {},
   "source": [
    "# Drawing the Schema for each table in our Database"
   ]
  },
  {
   "cell_type": "code",
   "execution_count": 266,
   "metadata": {},
   "outputs": [
    {
     "name": "stdout",
     "output_type": "stream",
     "text": [
      " donations (\n",
      "            project_id text,\n",
      "            donation_id text,\n",
      "            donor_id text,\n",
      "            optional_donation text,\n",
      "            donation_amount real,\n",
      "            cart_sequence integer,\n",
      "            receipt_date text\n",
      ")\n",
      " donors (\n",
      "            donor_id text,\n",
      "            donor_city text,\n",
      "            donor_state text,\n",
      "            donor_is_teacher text,\n",
      "            donor_zip integer\n",
      ")\n",
      " projects (\n",
      "            project_id text,\n",
      "            school_id text,\n",
      "            teacher_id text,\n",
      "            posted_sequence integer,\n",
      "            project_type text,\n",
      "            project_title text,\n",
      "            project_essay text,\n",
      "            short_description text,\n",
      "            need_statement text,\n",
      "            category text,\n",
      "            subcategory text,\n",
      "            grade_level text,\n",
      "            project_resource_category text,\n",
      "            cost real,\n",
      "            project_posted_date text,\n",
      "            project_expiration_date text,\n",
      "            project_status text,\n",
      "            project_funded_date text\n",
      ")\n",
      " resources (\n",
      "            project_id text,\n",
      "            resource_name text,\n",
      "            resource_quantity real,\n",
      "            resource_unit_price real,\n",
      "            resource_vendor text\n",
      ")\n",
      " schools (\n",
      "            school_id text,\n",
      "            school_name text,\n",
      "            school_metro text,\n",
      "            school_percentage real,\n",
      "            school_state text,\n",
      "            school_zip integer,\n",
      "            school_city text,\n",
      "            school_county text,\n",
      "            school_district text\n",
      ")\n",
      " teachers (\n",
      "            teacher_id text,\n",
      "            teacher_prefix text,\n",
      "            teacher_first_project text\n",
      ")\n"
     ]
    }
   ],
   "source": [
    "my_tables = return_query('SELECT * FROM sqlite_master')\n",
    "for table in my_tables:\n",
    "    my_text = table[-1].split(\"CREATE TABLE\")\n",
    "    my_text = my_text[1]\n",
    "    print(my_text)\n",
    "#     print(table[-1])"
   ]
  }
 ],
 "metadata": {
  "kernelspec": {
   "display_name": "Python 3",
   "language": "python",
   "name": "python3"
  },
  "language_info": {
   "codemirror_mode": {
    "name": "ipython",
    "version": 3
   },
   "file_extension": ".py",
   "mimetype": "text/x-python",
   "name": "python",
   "nbconvert_exporter": "python",
   "pygments_lexer": "ipython3",
   "version": "3.6.5"
  }
 },
 "nbformat": 4,
 "nbformat_minor": 2
}
